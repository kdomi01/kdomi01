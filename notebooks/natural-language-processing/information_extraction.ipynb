{
  "cells": [
    {
      "cell_type": "markdown",
      "id": "f053a289",
      "metadata": {
        "id": "f053a289"
      },
      "source": [
        "# Information Extraction\n",
        "You should extract keyphrases and named entities from unstructured texts using different approaches. In particular, you should do the following:\n",
        "- Suppose the given string variable is the content of your document.\n",
        "- Extract the keyphrases of your document using some unsupervised algorithms, such as `TextRank` and `SGRank`. The implementation of these algorithms can be found in [`textaCy`](https://textacy.readthedocs.io/en/0.12.0/api_reference/extract.html).\n",
        "- Recognize named entities of your document using pretrained models. These pretrained models can be found in [spaCy](https://spacy.io/usage/linguistic-features) and [Hugging Face Transformers](https://huggingface.co/docs/transformers/task_summary#named-entity-recognition).\n",
        "- Compare the result of different approaches. Analyze the effect of hyperparameters on the quality of results."
      ]
    },
    {
      "cell_type": "code",
      "execution_count": 1,
      "id": "99221de9",
      "metadata": {
        "id": "99221de9"
      },
      "outputs": [],
      "source": [
        "text = \"\"\"\n",
        "About GISMA Business School\n",
        "Since its foundation in 1999, GISMA Business School has paved the way for talented and qualified people to enter the international business world. Equipped with an interdisciplinary foundation and digital literacy, our graduates are able to pinpoint problem situations in companies of all sizes, start-ups or other organisations, and develop innovative solutions with commitment, motivation and creativity. With our goals in mind, we continue to expand and support students from all over the world to find their dream job and be successful.\n",
        "As a state-recognised university, GISMA Business School awards its own Bachelor's and Master's degrees. In addition, we enjoy the trust of some of the best universities in Europe to offer their degree programmes through GISMA.\n",
        "\n",
        "Our Mission\n",
        "GISMA educates individuals to become highly sought-after, leading members of the global business community. GISMA offers both traditional physical and modern virtual learning spaces that enable the acquisition of future-oriented competencies through state-of-the-art technology, an innovative and creative learning environment, and highly qualified staff. GISMA stands for practical and inspiring management education, where students learn from research-strong professors as well as top executives and founders. GISMA cooperates with a network of globally active organisations from business and education. It supports business and society by preparing students for management practice in a world characterised by permanent change, uncertainty, complexity and ambiguity. GISMA offers a learning environment characterised by a high degree of internationality.\n",
        "\"\"\""
      ]
    },
    {
      "cell_type": "code",
      "source": [
        "import spacy\n",
        "from textacy.extract.keyterms import textrank, sgrank\n",
        "from transformers import pipeline"
      ],
      "metadata": {
        "id": "I-6Kryl87qdM"
      },
      "id": "I-6Kryl87qdM",
      "execution_count": 16,
      "outputs": []
    },
    {
      "cell_type": "code",
      "source": [
        "nlp = spacy.load(\"en_core_web_sm\")\n",
        "doc = nlp(text)"
      ],
      "metadata": {
        "id": "22ohF3t_8xME"
      },
      "id": "22ohF3t_8xME",
      "execution_count": 4,
      "outputs": []
    },
    {
      "cell_type": "code",
      "source": [
        "t_key_terms = textrank(doc)\n",
        "t_key_terms"
      ],
      "metadata": {
        "id": "Zevf0FaS87U1",
        "outputId": "61ae55c5-bd22-4acd-e03b-9d95d57ef266",
        "colab": {
          "base_uri": "https://localhost:8080/"
        }
      },
      "id": "Zevf0FaS87U1",
      "execution_count": 11,
      "outputs": [
        {
          "output_type": "execute_result",
          "data": {
            "text/plain": [
              "[('GISMA Business School award', 0.03416257583806404),\n",
              " ('international business world', 0.025506347861031266),\n",
              " ('modern virtual learning space', 0.02252718016778866),\n",
              " ('creative learning environment', 0.019963268446678853),\n",
              " ('global business community', 0.01949552325521034),\n",
              " ('inspiring management education', 0.01832441779133801),\n",
              " ('degree programme', 0.014733900191777467),\n",
              " ('high degree', 0.014490240591750157),\n",
              " ('active organisation', 0.012487918297846283),\n",
              " ('qualified people', 0.011646443497108763)]"
            ]
          },
          "metadata": {},
          "execution_count": 11
        }
      ]
    },
    {
      "cell_type": "code",
      "source": [
        "s_key_terms = sgrank(doc)\n",
        "s_key_terms"
      ],
      "metadata": {
        "id": "6EXPU27K9Zul",
        "outputId": "defb948f-3095-46ec-d0f4-61c37d034b9d",
        "colab": {
          "base_uri": "https://localhost:8080/"
        }
      },
      "id": "6EXPU27K9Zul",
      "execution_count": 10,
      "outputs": [
        {
          "output_type": "execute_result",
          "data": {
            "text/plain": [
              "[('GISMA Business School', 0.653917081448932),\n",
              " ('world', 0.010860673886228727),\n",
              " ('digital literacy', 0.01081000197616003),\n",
              " ('problem situation', 0.010723782048406233),\n",
              " ('interdisciplinary foundation', 0.009940002754286116),\n",
              " ('innovative solution', 0.009910816642060461),\n",
              " ('business world', 0.009856493456615236),\n",
              " ('international business', 0.008777599275258932),\n",
              " ('student', 0.008442754504057653),\n",
              " ('qualified people', 0.008413677274300087)]"
            ]
          },
          "metadata": {},
          "execution_count": 10
        }
      ]
    },
    {
      "cell_type": "code",
      "source": [
        "ents = [(e.text, e.label_) for e in doc.ents]\n",
        "ents"
      ],
      "metadata": {
        "id": "GJYEVNxN-VAl",
        "outputId": "cee0e296-9f36-41a5-f977-babd6675bfcb",
        "colab": {
          "base_uri": "https://localhost:8080/"
        }
      },
      "id": "GJYEVNxN-VAl",
      "execution_count": 14,
      "outputs": [
        {
          "output_type": "execute_result",
          "data": {
            "text/plain": [
              "[('GISMA Business School', 'ORG'),\n",
              " ('1999', 'DATE'),\n",
              " ('GISMA Business School', 'ORG'),\n",
              " ('GISMA Business School', 'ORG'),\n",
              " ('Bachelor', 'ORG'),\n",
              " ('Master', 'WORK_OF_ART'),\n",
              " ('Europe', 'LOC'),\n",
              " ('GISMA', 'ORG'),\n",
              " ('GISMA', 'ORG')]"
            ]
          },
          "metadata": {},
          "execution_count": 14
        }
      ]
    },
    {
      "cell_type": "code",
      "source": [
        "ner_pipeline = pipeline(\"ner\", model=\"dbmdz/bert-large-cased-finetuned-conll03-english\")\n",
        "results = ner_pipeline(text)\n",
        "for entity in results:\n",
        "    print(f\"{entity['word']} ({entity['entity']}) [{entity['score']:.2f}]\")"
      ],
      "metadata": {
        "id": "a7nkkFuG_U7X",
        "outputId": "803612b0-e525-443c-8b3c-cec0f0ad72c8",
        "colab": {
          "base_uri": "https://localhost:8080/"
        }
      },
      "id": "a7nkkFuG_U7X",
      "execution_count": 18,
      "outputs": [
        {
          "output_type": "stream",
          "name": "stderr",
          "text": [
            "Some weights of the model checkpoint at dbmdz/bert-large-cased-finetuned-conll03-english were not used when initializing BertForTokenClassification: ['bert.pooler.dense.bias', 'bert.pooler.dense.weight']\n",
            "- This IS expected if you are initializing BertForTokenClassification from the checkpoint of a model trained on another task or with another architecture (e.g. initializing a BertForSequenceClassification model from a BertForPreTraining model).\n",
            "- This IS NOT expected if you are initializing BertForTokenClassification from the checkpoint of a model that you expect to be exactly identical (initializing a BertForSequenceClassification model from a BertForSequenceClassification model).\n"
          ]
        },
        {
          "output_type": "stream",
          "name": "stdout",
          "text": [
            "G (I-ORG) [1.00]\n",
            "##IS (I-ORG) [1.00]\n",
            "##MA (I-ORG) [1.00]\n",
            "Business (I-ORG) [0.99]\n",
            "School (I-ORG) [0.96]\n",
            "G (I-ORG) [1.00]\n",
            "##IS (I-ORG) [1.00]\n",
            "##MA (I-ORG) [1.00]\n",
            "Business (I-ORG) [0.99]\n",
            "School (I-ORG) [0.98]\n",
            "G (I-ORG) [1.00]\n",
            "##IS (I-ORG) [1.00]\n",
            "##MA (I-ORG) [1.00]\n",
            "Business (I-ORG) [0.98]\n",
            "School (I-ORG) [0.94]\n",
            "Europe (I-LOC) [1.00]\n",
            "G (I-ORG) [0.97]\n",
            "##IS (I-ORG) [0.91]\n",
            "##MA (I-ORG) [0.74]\n",
            "G (I-ORG) [0.96]\n",
            "##IS (I-ORG) [0.98]\n",
            "##MA (I-ORG) [0.95]\n",
            "G (I-ORG) [0.99]\n",
            "##IS (I-ORG) [0.99]\n",
            "##MA (I-ORG) [0.89]\n",
            "G (I-ORG) [0.97]\n",
            "##IS (I-ORG) [0.93]\n",
            "##MA (I-ORG) [0.83]\n",
            "G (I-ORG) [0.99]\n",
            "##IS (I-ORG) [0.99]\n",
            "##MA (I-ORG) [0.93]\n",
            "G (I-ORG) [0.99]\n",
            "##IS (I-ORG) [0.98]\n",
            "##MA (I-ORG) [0.82]\n"
          ]
        }
      ]
    }
  ],
  "metadata": {
    "kernelspec": {
      "display_name": "Python 3 (ipykernel)",
      "language": "python",
      "name": "python3"
    },
    "language_info": {
      "codemirror_mode": {
        "name": "ipython",
        "version": 3
      },
      "file_extension": ".py",
      "mimetype": "text/x-python",
      "name": "python",
      "nbconvert_exporter": "python",
      "pygments_lexer": "ipython3",
      "version": "3.8.12"
    },
    "colab": {
      "provenance": []
    }
  },
  "nbformat": 4,
  "nbformat_minor": 5
}